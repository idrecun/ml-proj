{
 "cells": [
  {
   "cell_type": "code",
   "execution_count": 1,
   "metadata": {},
   "outputs": [],
   "source": [
    "import random\n",
    "from tqdm.notebook import tqdm\n",
    "from gensim.models import Word2Vec\n",
    "from sklearn import metrics\n",
    "import numpy as np\n",
    "import networkx as nx\n",
    "from matplotlib import pyplot as plt\n",
    "import pandas as pd\n",
    "from surprise import SVD\n",
    "from surprise import Dataset\n",
    "from surprise import model_selection\n",
    "from surprise import accuracy\n",
    "from surprise import Reader\n",
    "from surprise.prediction_algorithms.predictions import Prediction"
   ]
  },
  {
   "cell_type": "code",
   "execution_count": 2,
   "metadata": {},
   "outputs": [],
   "source": [
    "def stringToTuple(s):\n",
    "    strings=s.split(\"_\")\n",
    "    if len(strings)==2:\n",
    "        return (strings[0],int(strings[1]))\n",
    "    else:\n",
    "        return (strings[0],int(strings[1]),float(strings[2]))\n",
    "\n",
    "def tupleToString(t):\n",
    "    if len(t)==2:\n",
    "        return str(t[0])+\"_\"+str(t[1])\n",
    "    else:\n",
    "        return str(t[0])+\"_\"+str(t[1])+\"_\"+str(t[2])"
   ]
  },
  {
   "cell_type": "code",
   "execution_count": null,
   "metadata": {},
   "outputs": [],
   "source": []
  },
  {
   "cell_type": "code",
   "execution_count": 3,
   "metadata": {},
   "outputs": [],
   "source": [
    "class DeepWalkRecommender():\n",
    "    \n",
    "    def __init__(self, w=8, epochs = 10, t = 30,latent_dim=32,k=50):        \n",
    "        self.w = w\n",
    "        self.epochs = epochs\n",
    "        self.t = t\n",
    "        self.latent_dim = latent_dim\n",
    "        self.k=k\n",
    "        self.predicted = {}\n",
    "        self.possible_ratings = []\n",
    "    \n",
    "    def __build_graph__(self, data):\n",
    "        G = nx.Graph()\n",
    "        \n",
    "        for user, movie, rating in data.all_ratings():\n",
    "            user_node = ('u', int(data.to_raw_uid(user)))\n",
    "            movie_node = ('m', int(data.to_raw_iid(movie)), rating)\n",
    "            G.add_edge(user_node, movie_node)\n",
    "        \n",
    "        return G\n",
    "    \n",
    "    def __build_val_map__(self, data):\n",
    "        return {(int(user), int(movie)) : float(rating) for (user, movie, rating) in data}\n",
    "    \n",
    "    def make_corpus(self,G):\n",
    "        corpus=[]\n",
    "        nodes=list(G.nodes)\n",
    "        for _ in tqdm(range(self.epochs),total=self.epochs):\n",
    "            np.random.shuffle(nodes)\n",
    "            for node in nodes:\n",
    "                walk = [node]\n",
    "                for i in range(1,self.t):\n",
    "                    if len(list(G.neighbors(walk[-1]))) == 0:\n",
    "                        break\n",
    "                    walk.append(random.choice(list(G.neighbors(walk[-1]))))\n",
    "                corpus.append([tupleToString(word) for word in walk])    \n",
    "        return corpus\n",
    "    \n",
    "    def fit(self, data, val_data = None):\n",
    "        logging = (val_data is not None)\n",
    "        \n",
    "        self.possible_ratings = sorted(set([rating for (_, _, rating) in data.all_ratings()]))\n",
    "        self.mean_rating = data.global_mean\n",
    "        \n",
    "        G = self.__build_graph__(data)\n",
    "        self.G_train=G\n",
    "        \n",
    "        corpus=self.make_corpus(G)\n",
    "        \n",
    "        self.word2vec=Word2Vec(corpus, size = self.latent_dim, window = self.w, min_count = 0, sg = 1, hs = 1, workers = 4)\n",
    "        return self.word2vec\n",
    "        \n",
    "    def test(self,test_data):\n",
    "        #y_predicted = []\n",
    "        #y_real = []\n",
    "        predictions=[]\n",
    "        for user,movie,rating in test_data:\n",
    "            user=int(user)\n",
    "            movie=int(movie)\n",
    "            y_real.append(rating)\n",
    "            if ('u',user) not in self.G_train.nodes:\n",
    "                print('nema ga')\n",
    "            similar_users=self.word2vec.wv.most_similar(positive = [tupleToString(('u',user))], topn = self.k)\n",
    "            \n",
    "            rating_sum=0\n",
    "            rating_cnt=0\n",
    "            for similar_user in similar_users:\n",
    "                if ('m',movie,rating) in self.G_train.neighbors(stringToTuple(similar_user[0])):\n",
    "                    rating_sum+=rating\n",
    "                    rating_cnt+=1\n",
    "            \n",
    "            if rating_cnt>0:\n",
    "                predicted_rating=rating_sum/rating_cnt\n",
    "            else:\n",
    "                #rating_sum = 0\n",
    "                #rating_cnt = 0\n",
    "                #for rating in range(5):\n",
    "                #    movieNode=('m',movie,float(rating))\n",
    "                #    if movieNode in self.G_train.nodes:\n",
    "                #        rating_sum += len(list(self.G_train.neighbors(movieNode)))*rating\n",
    "                #        rating_cnt += len(list(self.G_train.neighbors(movieNode)))\n",
    "                #if rating_cnt > 0: \n",
    "                #    predicted_rating =rating_sum / rating_cnt\n",
    "                #else:\n",
    "                predicted_rating = self.mean_rating\n",
    "            details={'sad':True}\n",
    "            predictions.append(Prediction(uid = user,\n",
    "                                          iid = movie,\n",
    "                                          r_ui = rating,\n",
    "                                          est = float(predicted_rating),\n",
    "                                          details = details))\n",
    "            #y_predicted.append(predicted_rating)\n",
    "        return predictions\n",
    "\n",
    "    def gridSearch(train_data,test_data):\n",
    "        ws=[2,4,8,16]\n",
    "        ts=[15,30,45]\n",
    "        ks=[25,50]\n",
    "        epochs=[10,20]\n",
    "        dimensions=[8,16,32,64]\n",
    "        for w in ws:\n",
    "            for t in ts:\n",
    "                for epoch in epochs:\n",
    "                    for dim in dimensions:\n",
    "                        for k in ks:\n",
    "                            self.w=w\n",
    "                            self.k=k\n",
    "                            self.latent_dim=dim\n",
    "                            self.epochs=epoch\n",
    "                            self.t=t\n",
    "                            self.fit(train_data)\n",
    "                            predictions=self.test(test_data)\n",
    "        #TODO\n",
    "        "
   ]
  },
  {
   "cell_type": "code",
   "execution_count": 100,
   "metadata": {},
   "outputs": [
    {
     "data": {
      "application/vnd.jupyter.widget-view+json": {
       "model_id": "18bccb1437164f129c36006b34d4f1a0",
       "version_major": 2,
       "version_minor": 0
      },
      "text/plain": [
       "HBox(children=(FloatProgress(value=0.0, max=10.0), HTML(value='')))"
      ]
     },
     "metadata": {},
     "output_type": "display_data"
    },
    {
     "name": "stdout",
     "output_type": "stream",
     "text": [
      "\n"
     ]
    }
   ],
   "source": [
    "d=DeepWalkRecommender()\n",
    "model=d.fit(train_data)\n",
    "predictions=d.test(test_data)"
   ]
  },
  {
   "cell_type": "code",
   "execution_count": 101,
   "metadata": {},
   "outputs": [
    {
     "name": "stdout",
     "output_type": "stream",
     "text": [
      "MODEL:\n",
      "RMSE: 0.8979\n",
      "0.8978689260432736\n",
      "MAE:  0.5435\n",
      "0.543477913125\n",
      "------------------\n",
      "Constant 4 model score:\n"
     ]
    },
    {
     "ename": "ValueError",
     "evalue": "Found input variables with inconsistent numbers of samples: [40000, 20000]",
     "output_type": "error",
     "traceback": [
      "\u001b[0;31m---------------------------------------------------------------------------\u001b[0m",
      "\u001b[0;31mValueError\u001b[0m                                Traceback (most recent call last)",
      "\u001b[0;32m<ipython-input-101-66a06a83138c>\u001b[0m in \u001b[0;36m<module>\u001b[0;34m\u001b[0m\n\u001b[1;32m     14\u001b[0m \u001b[0;34m\u001b[0m\u001b[0m\n\u001b[1;32m     15\u001b[0m \u001b[0mprint\u001b[0m\u001b[0;34m(\u001b[0m\u001b[0;34m'Constant 4 model score:'\u001b[0m\u001b[0;34m)\u001b[0m\u001b[0;34m\u001b[0m\u001b[0;34m\u001b[0m\u001b[0m\n\u001b[0;32m---> 16\u001b[0;31m \u001b[0mprint\u001b[0m\u001b[0;34m(\u001b[0m\u001b[0;34m'MAE:'\u001b[0m\u001b[0;34m,\u001b[0m\u001b[0mmetrics\u001b[0m\u001b[0;34m.\u001b[0m\u001b[0mmean_absolute_error\u001b[0m\u001b[0;34m(\u001b[0m\u001b[0my_real\u001b[0m\u001b[0;34m,\u001b[0m \u001b[0my_constant4\u001b[0m\u001b[0;34m)\u001b[0m\u001b[0;34m)\u001b[0m\u001b[0;34m\u001b[0m\u001b[0;34m\u001b[0m\u001b[0m\n\u001b[0m\u001b[1;32m     17\u001b[0m \u001b[0mprint\u001b[0m\u001b[0;34m(\u001b[0m\u001b[0;34m'MSE:'\u001b[0m\u001b[0;34m,\u001b[0m\u001b[0mmetrics\u001b[0m\u001b[0;34m.\u001b[0m\u001b[0mmean_squared_error\u001b[0m\u001b[0;34m(\u001b[0m\u001b[0my_real\u001b[0m\u001b[0;34m,\u001b[0m \u001b[0my_constant4\u001b[0m\u001b[0;34m)\u001b[0m\u001b[0;34m)\u001b[0m\u001b[0;34m\u001b[0m\u001b[0;34m\u001b[0m\u001b[0m\n\u001b[1;32m     18\u001b[0m \u001b[0mprint\u001b[0m\u001b[0;34m(\u001b[0m\u001b[0mmetrics\u001b[0m\u001b[0;34m.\u001b[0m\u001b[0mr2_score\u001b[0m\u001b[0;34m(\u001b[0m\u001b[0my_real\u001b[0m\u001b[0;34m,\u001b[0m \u001b[0my_constant4\u001b[0m\u001b[0;34m)\u001b[0m\u001b[0;34m)\u001b[0m\u001b[0;34m\u001b[0m\u001b[0;34m\u001b[0m\u001b[0m\n",
      "\u001b[0;32m~/anaconda3/lib/python3.8/site-packages/sklearn/utils/validation.py\u001b[0m in \u001b[0;36minner_f\u001b[0;34m(*args, **kwargs)\u001b[0m\n\u001b[1;32m     71\u001b[0m                           FutureWarning)\n\u001b[1;32m     72\u001b[0m         \u001b[0mkwargs\u001b[0m\u001b[0;34m.\u001b[0m\u001b[0mupdate\u001b[0m\u001b[0;34m(\u001b[0m\u001b[0;34m{\u001b[0m\u001b[0mk\u001b[0m\u001b[0;34m:\u001b[0m \u001b[0marg\u001b[0m \u001b[0;32mfor\u001b[0m \u001b[0mk\u001b[0m\u001b[0;34m,\u001b[0m \u001b[0marg\u001b[0m \u001b[0;32min\u001b[0m \u001b[0mzip\u001b[0m\u001b[0;34m(\u001b[0m\u001b[0msig\u001b[0m\u001b[0;34m.\u001b[0m\u001b[0mparameters\u001b[0m\u001b[0;34m,\u001b[0m \u001b[0margs\u001b[0m\u001b[0;34m)\u001b[0m\u001b[0;34m}\u001b[0m\u001b[0;34m)\u001b[0m\u001b[0;34m\u001b[0m\u001b[0;34m\u001b[0m\u001b[0m\n\u001b[0;32m---> 73\u001b[0;31m         \u001b[0;32mreturn\u001b[0m \u001b[0mf\u001b[0m\u001b[0;34m(\u001b[0m\u001b[0;34m**\u001b[0m\u001b[0mkwargs\u001b[0m\u001b[0;34m)\u001b[0m\u001b[0;34m\u001b[0m\u001b[0;34m\u001b[0m\u001b[0m\n\u001b[0m\u001b[1;32m     74\u001b[0m     \u001b[0;32mreturn\u001b[0m \u001b[0minner_f\u001b[0m\u001b[0;34m\u001b[0m\u001b[0;34m\u001b[0m\u001b[0m\n\u001b[1;32m     75\u001b[0m \u001b[0;34m\u001b[0m\u001b[0m\n",
      "\u001b[0;32m~/anaconda3/lib/python3.8/site-packages/sklearn/metrics/_regression.py\u001b[0m in \u001b[0;36mmean_absolute_error\u001b[0;34m(y_true, y_pred, sample_weight, multioutput)\u001b[0m\n\u001b[1;32m    176\u001b[0m     \u001b[0;36m0.85\u001b[0m\u001b[0;34m...\u001b[0m\u001b[0;34m\u001b[0m\u001b[0;34m\u001b[0m\u001b[0m\n\u001b[1;32m    177\u001b[0m     \"\"\"\n\u001b[0;32m--> 178\u001b[0;31m     y_type, y_true, y_pred, multioutput = _check_reg_targets(\n\u001b[0m\u001b[1;32m    179\u001b[0m         y_true, y_pred, multioutput)\n\u001b[1;32m    180\u001b[0m     \u001b[0mcheck_consistent_length\u001b[0m\u001b[0;34m(\u001b[0m\u001b[0my_true\u001b[0m\u001b[0;34m,\u001b[0m \u001b[0my_pred\u001b[0m\u001b[0;34m,\u001b[0m \u001b[0msample_weight\u001b[0m\u001b[0;34m)\u001b[0m\u001b[0;34m\u001b[0m\u001b[0;34m\u001b[0m\u001b[0m\n",
      "\u001b[0;32m~/anaconda3/lib/python3.8/site-packages/sklearn/metrics/_regression.py\u001b[0m in \u001b[0;36m_check_reg_targets\u001b[0;34m(y_true, y_pred, multioutput, dtype)\u001b[0m\n\u001b[1;32m     82\u001b[0m \u001b[0;34m\u001b[0m\u001b[0m\n\u001b[1;32m     83\u001b[0m     \"\"\"\n\u001b[0;32m---> 84\u001b[0;31m     \u001b[0mcheck_consistent_length\u001b[0m\u001b[0;34m(\u001b[0m\u001b[0my_true\u001b[0m\u001b[0;34m,\u001b[0m \u001b[0my_pred\u001b[0m\u001b[0;34m)\u001b[0m\u001b[0;34m\u001b[0m\u001b[0;34m\u001b[0m\u001b[0m\n\u001b[0m\u001b[1;32m     85\u001b[0m     \u001b[0my_true\u001b[0m \u001b[0;34m=\u001b[0m \u001b[0mcheck_array\u001b[0m\u001b[0;34m(\u001b[0m\u001b[0my_true\u001b[0m\u001b[0;34m,\u001b[0m \u001b[0mensure_2d\u001b[0m\u001b[0;34m=\u001b[0m\u001b[0;32mFalse\u001b[0m\u001b[0;34m,\u001b[0m \u001b[0mdtype\u001b[0m\u001b[0;34m=\u001b[0m\u001b[0mdtype\u001b[0m\u001b[0;34m)\u001b[0m\u001b[0;34m\u001b[0m\u001b[0;34m\u001b[0m\u001b[0m\n\u001b[1;32m     86\u001b[0m     \u001b[0my_pred\u001b[0m \u001b[0;34m=\u001b[0m \u001b[0mcheck_array\u001b[0m\u001b[0;34m(\u001b[0m\u001b[0my_pred\u001b[0m\u001b[0;34m,\u001b[0m \u001b[0mensure_2d\u001b[0m\u001b[0;34m=\u001b[0m\u001b[0;32mFalse\u001b[0m\u001b[0;34m,\u001b[0m \u001b[0mdtype\u001b[0m\u001b[0;34m=\u001b[0m\u001b[0mdtype\u001b[0m\u001b[0;34m)\u001b[0m\u001b[0;34m\u001b[0m\u001b[0;34m\u001b[0m\u001b[0m\n",
      "\u001b[0;32m~/anaconda3/lib/python3.8/site-packages/sklearn/utils/validation.py\u001b[0m in \u001b[0;36mcheck_consistent_length\u001b[0;34m(*arrays)\u001b[0m\n\u001b[1;32m    254\u001b[0m     \u001b[0muniques\u001b[0m \u001b[0;34m=\u001b[0m \u001b[0mnp\u001b[0m\u001b[0;34m.\u001b[0m\u001b[0munique\u001b[0m\u001b[0;34m(\u001b[0m\u001b[0mlengths\u001b[0m\u001b[0;34m)\u001b[0m\u001b[0;34m\u001b[0m\u001b[0;34m\u001b[0m\u001b[0m\n\u001b[1;32m    255\u001b[0m     \u001b[0;32mif\u001b[0m \u001b[0mlen\u001b[0m\u001b[0;34m(\u001b[0m\u001b[0muniques\u001b[0m\u001b[0;34m)\u001b[0m \u001b[0;34m>\u001b[0m \u001b[0;36m1\u001b[0m\u001b[0;34m:\u001b[0m\u001b[0;34m\u001b[0m\u001b[0;34m\u001b[0m\u001b[0m\n\u001b[0;32m--> 256\u001b[0;31m         raise ValueError(\"Found input variables with inconsistent numbers of\"\n\u001b[0m\u001b[1;32m    257\u001b[0m                          \" samples: %r\" % [int(l) for l in lengths])\n\u001b[1;32m    258\u001b[0m \u001b[0;34m\u001b[0m\u001b[0m\n",
      "\u001b[0;31mValueError\u001b[0m: Found input variables with inconsistent numbers of samples: [40000, 20000]"
     ]
    }
   ],
   "source": [
    "def max_k_off(y_real, y_predicted, k = 1):\n",
    "    return len([i for i in range(len(y_real)) if abs(y_real[i] - y_predicted[i]) <= k]) / len(y_real)\n",
    "\n",
    "print(accuracy.rmse(predictions))\n",
    "print(accuracy.mae(predictions))\n",
    "\n",
    "#print(metrics.mean_absolute_error(y_real, y_predicted))\n",
    "#print(np.sqrt(metrics.mean_squared_error(y_real, y_predicted)))\n",
    "#print(metrics.r2_score(y_real, y_predicted))\n",
    "#print(max_k_off(y_real, y_predicted))\n",
    "print('------------------')\n",
    "#y_constant4 = [4 for i in range(len(y2))]\n",
    "\n",
    "#print('Constant 4 model score:')\n",
    "#print('MAE:',metrics.mean_absolute_error(y_real, y_constant4))\n",
    "#print('MSE:',metrics.mean_squared_error(y_real, y_constant4))\n",
    "#print(metrics.r2_score(y_real, y_constant4))\n",
    "#print(max_k_off(y_real, y_constant4))\n",
    "#print('------------------')\n",
    "\n",
    "#y_custom = [max(1, min(5, y + round(numpy.random.normal(0, 1.11)))) for y in y_real]\n",
    "#print('Normal distribution random model score:')\n",
    "#print('MAE:',metrics.mean_absolute_error(y_real, y_custom))\n",
    "#print('MSE',metrics.mean_squared_error(y_real, y_custom))\n",
    "#print(metrics.r2_score(y_real, y_custom))\n",
    "#print(max_k_off(y_real, y_custom))\n",
    "#print('------------------')\n"
   ]
  },
  {
   "cell_type": "code",
   "execution_count": 91,
   "metadata": {},
   "outputs": [
    {
     "name": "stdout",
     "output_type": "stream",
     "text": [
      "RMSE: 0.9628\n",
      "MAE:  0.7742\n",
      "20000\n"
     ]
    }
   ],
   "source": [
    "svd = SVD(n_epochs = 10, lr_all = 0.005, reg_all = 0.4)\n",
    "svd.fit(train_data)\n",
    "predictionsSVD = svd.test(test_data)\n",
    "accuracy.rmse(predictionsSVD)\n",
    "accuracy.mae(predictionsSVD)\n",
    "print(len(predictionsSVD))"
   ]
  },
  {
   "cell_type": "code",
   "execution_count": 15,
   "metadata": {},
   "outputs": [],
   "source": [
    "model.save('deepwalk.model')"
   ]
  }
 ],
 "metadata": {
  "kernelspec": {
   "display_name": "Python 3",
   "language": "python",
   "name": "python3"
  },
  "language_info": {
   "codemirror_mode": {
    "name": "ipython",
    "version": 3
   },
   "file_extension": ".py",
   "mimetype": "text/x-python",
   "name": "python",
   "nbconvert_exporter": "python",
   "pygments_lexer": "ipython3",
   "version": "3.8.3"
  }
 },
 "nbformat": 4,
 "nbformat_minor": 4
}
