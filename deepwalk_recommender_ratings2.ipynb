{
 "cells": [
  {
   "cell_type": "code",
   "execution_count": 50,
   "metadata": {},
   "outputs": [],
   "source": [
    "import random\n",
    "from tqdm.notebook import tqdm\n",
    "from gensim.models import Word2Vec\n",
    "from sklearn import metrics\n",
    "import numpy \n",
    "import networkx as nx\n",
    "from matplotlib import pyplot as plt"
   ]
  },
  {
   "cell_type": "code",
   "execution_count": 57,
   "metadata": {},
   "outputs": [],
   "source": [
    "def make_graph_from_file(filename, test_size):\n",
    "    G = nx.Graph()\n",
    "    G_test = nx.Graph()\n",
    "    with open(filename) as data_file:\n",
    "        for line in tqdm(data_file):\n",
    "            line = line.strip()\n",
    "            if line.endswith(\":\"):\n",
    "                movie_id = int(line[:-1])\n",
    "                for i in range(5):\n",
    "                    G.add_node(str(movie_id) + \"_\" + str(i))\n",
    "                    G_test.add_node(str(movie_id) + \"_\" + str(i))\n",
    "            else:\n",
    "                node_info = line.split(\",\")\n",
    "                user_id = int(node_info[0])\n",
    "                rating = int(node_info[1]) - 1\n",
    "\n",
    "                if user_id < 60000:\n",
    "                    if str(user_id) not in G.nodes:\n",
    "                        G.add_node(str(user_id))\n",
    "                        G_test.add_node(str(user_id))\n",
    "\n",
    "                    if random.uniform(0, 1) > test_size:\n",
    "                        G.add_edge(str(user_id), str(movie_id) + \"_\" + str(rating))\n",
    "                    else:\n",
    "                        G_test.add_edge(str(user_id), str(movie_id) + \"_\" + str(rating))\n",
    "    return G, G_test              "
   ]
  },
  {
   "cell_type": "code",
   "execution_count": 58,
   "metadata": {},
   "outputs": [],
   "source": [
    "def make_corpus(G, t, epochs):\n",
    "    corpus=[]\n",
    "    nodes=list(G.nodes)\n",
    "    for _ in tqdm(range(epochs),total=epochs):\n",
    "        np.random.shuffle(nodes)\n",
    "        for node in nodes:\n",
    "            walk = [node]\n",
    "            for i in range(1,t):\n",
    "                if len(list(G.neighbors(walk[-1]))) == 0:\n",
    "                    break\n",
    "                walk.append(random.choice(list(G.neighbors(walk[-1]))))\n",
    "            corpus.append([word for word in walk])    \n",
    "    return corpus"
   ]
  },
  {
   "cell_type": "code",
   "execution_count": 64,
   "metadata": {},
   "outputs": [],
   "source": [
    "data_file = \"combined_data_1.txt\"\n",
    "test_size = 0.1\n",
    "latent_dim = 32\n",
    "w = 8\n",
    "t = 30\n",
    "epochs = 10\n",
    "\n",
    "G, G_test = make_graph_from_file(data_file, test_size)\n",
    "# lista=list(G.nodes)"
   ]
  },
  {
   "cell_type": "code",
   "execution_count": 60,
   "metadata": {},
   "outputs": [
    {
     "data": {
      "application/vnd.jupyter.widget-view+json": {
       "model_id": "d136dccabd5b4b9099961c5dbc45c40c",
       "version_major": 2,
       "version_minor": 0
      },
      "text/plain": [
       "HBox(children=(FloatProgress(value=0.0, max=10.0), HTML(value='')))"
      ]
     },
     "metadata": {},
     "output_type": "display_data"
    },
    {
     "name": "stdout",
     "output_type": "stream",
     "text": [
      "\n"
     ]
    }
   ],
   "source": [
    "corpus = make_corpus(G, t, epochs)"
   ]
  },
  {
   "cell_type": "code",
   "execution_count": 65,
   "metadata": {},
   "outputs": [],
   "source": [
    "model = Word2Vec(corpus, size = latent_dim, window = w, min_count = 0, sg = 1, hs = 1, workers = 4)"
   ]
  },
  {
   "cell_type": "code",
   "execution_count": 66,
   "metadata": {},
   "outputs": [],
   "source": [
    "def predict(model,G,G_test):\n",
    "    y_predicted = []\n",
    "    y_real = []\n",
    "    for node in tqdm(G.nodes):\n",
    "        if '_' not in node:\n",
    "            similar_users = model.wv.most_similar(positive = [node], topn = 50)\n",
    "        \n",
    "            for movie_rating_node in G_test.neighbors(node):\n",
    "                movie_node = movie_rating_node.split(\"_\")[0]\n",
    "                    \n",
    "                rating_sum = 0\n",
    "                rating_cnt = 0\n",
    "                for similar_user in similar_users: \n",
    "                    for rating in range(5):\n",
    "                        if (movie_node + \"_\" + str(rating)) in G.neighbors(similar_user[0]):\n",
    "                            rating_sum += rating + 1\n",
    "                            rating_cnt += 1\n",
    "                        \n",
    "                if rating_cnt > 0:\n",
    "                    predicted_rating = round(rating_sum / rating_cnt)\n",
    "                else:\n",
    "                    rating_sum = 0\n",
    "                    rating_cnt = 0\n",
    "                    for rating in range(5):\n",
    "                        rating_sum += len(list(G.neighbors(movie_node + \"_\" + str(rating)))) * (rating + 1)\n",
    "                        rating_cnt += len(list(G.neighbors(movie_node + \"_\" + str(rating))))\n",
    "                    if rating_cnt > 0:\n",
    "                        predicted_rating = round(rating_sum / rating_cnt)\n",
    "                    else:\n",
    "                        predicted_rating = 4\n",
    "                real_rating = int(movie_rating_node.split(\"_\")[1]) + 1\n",
    "            \n",
    "                y_predicted.append(predicted_rating)\n",
    "                y_real.append(real_rating)\n",
    "    return y_predicted, y_real\n",
    "\n",
    "def predictAllAverage(G,G_test):\n",
    "    y_allavg = []\n",
    "    for node in G.nodes:\n",
    "        if '_' not in node:\n",
    "            for movie_rating_node in G_test.neighbors(node):\n",
    "                movie_node = movie_rating_node.split(\"_\")[0]\n",
    "                        \n",
    "                rating_sum = 0\n",
    "                rating_cnt = 0\n",
    "                for rating in range(5):\n",
    "                    rating_sum += len(list(G.neighbors(movie_node + \"_\" + str(rating)))) * (rating + 1)\n",
    "                    rating_cnt += len(list(G.neighbors(movie_node + \"_\" + str(rating))))\n",
    "                if rating_cnt > 0:\n",
    "                    predicted_rating = round(rating_sum / rating_cnt)\n",
    "                else:\n",
    "                    predicted_rating = 4\n",
    "            \n",
    "                y_allavg.append(predicted_rating)\n",
    "    return y_allavg"
   ]
  },
  {
   "cell_type": "code",
   "execution_count": 67,
   "metadata": {},
   "outputs": [
    {
     "data": {
      "application/vnd.jupyter.widget-view+json": {
       "model_id": "27ae6919f04842ef88da78c4959dfd48",
       "version_major": 2,
       "version_minor": 0
      },
      "text/plain": [
       "HBox(children=(FloatProgress(value=0.0, max=33102.0), HTML(value='')))"
      ]
     },
     "metadata": {},
     "output_type": "display_data"
    },
    {
     "name": "stdout",
     "output_type": "stream",
     "text": [
      "\n",
      "Model score:\n",
      "0.7270280168467314\n",
      "1.0675517304522981\n",
      "0.0920469672858848\n",
      "0.8815235304889214\n",
      "------------------\n",
      "Constant 4 model score:\n",
      "0.8552462918879327\n",
      "1.3288958066288226\n",
      "-0.13022623950832868\n",
      "0.854367331990478\n",
      "------------------\n",
      "Normal distribution random model score:\n",
      "0.6797289873649515\n",
      "0.9411463101995972\n",
      "0.1995548110709504\n",
      "0.8876945614356345\n",
      "------------------\n",
      "All average model score:\n",
      "0.7865775498992859\n",
      "1.1284563266800953\n",
      "0.04024759187966609\n",
      "0.8669108221937374\n",
      "------------------\n"
     ]
    }
   ],
   "source": [
    "def max_k_off(y_real, y_predicted, k = 1):\n",
    "    return len([i for i in range(len(y_real)) if abs(y_real[i] - y_predicted[i]) <= k]) / len(y_real)\n",
    "\n",
    "y_predicted,y_real=predict(model,G,G_test)\n",
    "\n",
    "print('Model score:')\n",
    "print(metrics.mean_absolute_error(y_real, y_predicted))\n",
    "print(metrics.mean_squared_error(y_real, y_predicted))\n",
    "print(metrics.r2_score(y_real, y_predicted))\n",
    "print(max_k_off(y_real, y_predicted))\n",
    "print('------------------')\n",
    "\n",
    "y_constant4 = [4 for i in range(len(y_real))]\n",
    "\n",
    "print('Constant 4 model score:')\n",
    "print(metrics.mean_absolute_error(y_real, y_constant4))\n",
    "print(metrics.mean_squared_error(y_real, y_constant4))\n",
    "print(metrics.r2_score(y_real, y_constant4))\n",
    "print(max_k_off(y_real, y_constant4))\n",
    "print('------------------')\n",
    "\n",
    "y_custom = [max(1, min(5, y + round(numpy.random.normal(0, 1.11)))) for y in y_real]\n",
    "print('Normal distribution random model score:')\n",
    "print(metrics.mean_absolute_error(y_real, y_custom))\n",
    "print(metrics.mean_squared_error(y_real, y_custom))\n",
    "print(metrics.r2_score(y_real, y_custom))\n",
    "print(max_k_off(y_real, y_custom))\n",
    "print('------------------')\n",
    "\n",
    "y_allavg=predictAllAverage(G,G_test)\n",
    "\n",
    "print('All average model score:')\n",
    "print(metrics.mean_absolute_error(y_real, y_allavg))\n",
    "print(metrics.mean_squared_error(y_real, y_allavg))\n",
    "print(metrics.r2_score(y_real, y_allavg))\n",
    "print(max_k_off(y_real, y_allavg))\n",
    "print('------------------')\n"
   ]
  },
  {
   "cell_type": "code",
   "execution_count": 15,
   "metadata": {},
   "outputs": [],
   "source": [
    "model.save('deepwalk.model')"
   ]
  }
 ],
 "metadata": {
  "kernelspec": {
   "display_name": "Python 3",
   "language": "python",
   "name": "python3"
  },
  "language_info": {
   "codemirror_mode": {
    "name": "ipython",
    "version": 3
   },
   "file_extension": ".py",
   "mimetype": "text/x-python",
   "name": "python",
   "nbconvert_exporter": "python",
   "pygments_lexer": "ipython3",
   "version": "3.7.6"
  }
 },
 "nbformat": 4,
 "nbformat_minor": 4
}
