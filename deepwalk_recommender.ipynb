{
 "cells": [
  {
   "cell_type": "code",
   "execution_count": 1,
   "metadata": {},
   "outputs": [
    {
     "name": "stderr",
     "output_type": "stream",
     "text": [
      "24058263it [00:37, 644300.09it/s]\n"
     ]
    }
   ],
   "source": [
    "from enum import Enum\n",
    "import random\n",
    "from tqdm import tqdm\n",
    "\n",
    "class NodeType(Enum):\n",
    "    USER = 0\n",
    "    MOVIE = 1\n",
    "\n",
    "node_map = []\n",
    "graph = []\n",
    "test_graph = []\n",
    "test_size = 0.1\n",
    "\n",
    "user_map = {}\n",
    "movie_map = {}\n",
    "\n",
    "last_movie_idx = 0\n",
    "with open(\"combined_data_1.txt\") as data_file:\n",
    "    for line in tqdm(data_file):\n",
    "        line = line.strip()\n",
    "        if line.endswith(\":\"):\n",
    "            movie_id = int(line[:-1])\n",
    "            \n",
    "            node_map.append((NodeType.MOVIE, movie_id))\n",
    "            graph.append([])\n",
    "            test_graph.append([])\n",
    "            \n",
    "            movie_map[movie_id] = len(node_map) - 1\n",
    "            last_movie_idx = len(node_map) - 1\n",
    "        else:\n",
    "            node_info = line.split(\",\")\n",
    "            user_id = int(node_info[0])\n",
    "            rating = int(node_info[1])\n",
    "            \n",
    "            if rating > 3:\n",
    "                if user_id not in user_map.keys():\n",
    "                    node_map.append((NodeType.USER, user_id))\n",
    "                    graph.append([])\n",
    "                    test_graph.append([])\n",
    "                    \n",
    "                    user_map[user_id] = len(node_map) - 1\n",
    "                    \n",
    "                user_node_idx = user_map[user_id]\n",
    "                \n",
    "                if random.uniform(0, 1) > test_size:\n",
    "                    graph[last_movie_idx].append(user_node_idx)\n",
    "                    graph[user_node_idx].append(last_movie_idx)\n",
    "                else:\n",
    "                    test_graph[last_movie_idx].append(user_node_idx)\n",
    "                    test_graph[user_node_idx].append(last_movie_idx)"
   ]
  },
  {
   "cell_type": "code",
   "execution_count": 2,
   "metadata": {},
   "outputs": [
    {
     "data": {
      "text/plain": [
       "458436"
      ]
     },
     "execution_count": 2,
     "metadata": {},
     "output_type": "execute_result"
    }
   ],
   "source": [
    "len(user_map)"
   ]
  },
  {
   "cell_type": "code",
   "execution_count": 3,
   "metadata": {},
   "outputs": [
    {
     "name": "stderr",
     "output_type": "stream",
     "text": [
      "100%|██████████| 5/5 [01:18<00:00, 15.74s/it]\n"
     ]
    }
   ],
   "source": [
    "epochs = 5\n",
    "t = 30\n",
    "w = 10\n",
    "latent_dim = 128\n",
    "\n",
    "corpus = []\n",
    "\n",
    "nodes = list(range(len(node_map)))\n",
    "for _ in tqdm(range(epochs), total = epochs):\n",
    "    random.shuffle(nodes)\n",
    "    for node in nodes:\n",
    "        walk = [node]\n",
    "        for i in range(1, t):\n",
    "            if len(graph[walk[-1]]) == 0:\n",
    "                break\n",
    "            walk.append(random.choice(graph[walk[-1]]))\n",
    "        corpus.append([str(word) for word in walk])"
   ]
  },
  {
   "cell_type": "code",
   "execution_count": 4,
   "metadata": {},
   "outputs": [],
   "source": [
    "from gensim.models import Word2Vec\n",
    "\n",
    "model = Word2Vec(corpus, size = latent_dim, window = w, min_count = 0, sg = 1, hs = 1, workers = 4)"
   ]
  },
  {
   "cell_type": "code",
   "execution_count": 41,
   "metadata": {},
   "outputs": [
    {
     "name": "stdout",
     "output_type": "stream",
     "text": [
      "[302720, 382080]\n",
      "[446753, 415003, 429777, 320625, 302720, 382080]\n",
      "[434687, 439763]\n",
      "[307777, 320625, 333347, 333995, 369438, 406788, 415003, 416463, 427355, 428752, 429777, 436373, 446753]\n",
      "307968\n",
      "0.0\n"
     ]
    }
   ],
   "source": [
    "rand_user = 0\n",
    "while node_map[rand_user][0] != NodeType.USER or len(test_graph[rand_user]) == 0:\n",
    "    rand_user = random.randrange(len(node_map))\n",
    "\n",
    "similar = model.wv.most_similar(positive = [str(rand_user)], topn = 200)\n",
    "similar_movies = [int(x[0]) for x in similar if node_map[int(x[0])][0] == NodeType.MOVIE]\n",
    "recommendations = [x for x in similar_movies if x not in graph[rand_user]]\n",
    "print(recommendations)\n",
    "print(similar_movies)\n",
    "print(test_graph[rand_user])\n",
    "print(graph[rand_user])\n",
    "print(rand_user)\n",
    "n_guesses = len([x for x in recommendations if x in test_graph[rand_user]])\n",
    "print(n_guesses / len(test_graph[rand_user]))  # Procenat pozeljnih filmova koji su predlozeni\n",
    "#print(n_guesses / len(recommendations))  # Procenat predlozenih filmova koji su pozeljni"
   ]
  }
 ],
 "metadata": {
  "kernelspec": {
   "display_name": "Python 3",
   "language": "python",
   "name": "python3"
  },
  "language_info": {
   "codemirror_mode": {
    "name": "ipython",
    "version": 3
   },
   "file_extension": ".py",
   "mimetype": "text/x-python",
   "name": "python",
   "nbconvert_exporter": "python",
   "pygments_lexer": "ipython3",
   "version": "3.7.6"
  }
 },
 "nbformat": 4,
 "nbformat_minor": 4
}
