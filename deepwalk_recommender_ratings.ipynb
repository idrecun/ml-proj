{
 "cells": [
  {
   "cell_type": "code",
   "execution_count": 2,
   "metadata": {},
   "outputs": [],
   "source": [
    "from enum import Enum\n",
    "import random\n",
    "from tqdm.notebook import tqdm\n",
    "from gensim.models import Word2Vec\n",
    "from sklearn import metrics\n",
    "import numpy"
   ]
  },
  {
   "cell_type": "code",
   "execution_count": 2,
   "metadata": {},
   "outputs": [
    {
     "data": {
      "application/vnd.jupyter.widget-view+json": {
       "model_id": "72f3a17de62d4d3ca499ce13dbc80a0a",
       "version_major": 2,
       "version_minor": 0
      },
      "text/plain": [
       "HBox(children=(FloatProgress(value=1.0, bar_style='info', max=1.0), HTML(value='')))"
      ]
     },
     "metadata": {},
     "output_type": "display_data"
    },
    {
     "name": "stdout",
     "output_type": "stream",
     "text": [
      "\n"
     ]
    }
   ],
   "source": [
    "class NodeType(Enum):\n",
    "    USER = 0\n",
    "    MOVIE = 1\n",
    "\n",
    "node_map = []\n",
    "graph = []\n",
    "test_graph = []\n",
    "test_size = 0.05\n",
    "\n",
    "user_map = {}\n",
    "movie_map = {}\n",
    "\n",
    "last_movie_idx = 0\n",
    "with open(\"combined_data_1.txt\") as data_file:\n",
    "    for line in tqdm(data_file):\n",
    "        line = line.strip()\n",
    "        if line.endswith(\":\"):\n",
    "            movie_id = int(line[:-1])\n",
    "                \n",
    "            movie_map[movie_id] = len(node_map)\n",
    "            last_movie_idx = len(node_map)\n",
    "            \n",
    "            for _ in range(5):\n",
    "                node_map.append((NodeType.MOVIE, movie_id))\n",
    "                graph.append([])\n",
    "                test_graph.append([])\n",
    "            \n",
    "        else:\n",
    "            node_info = line.split(\",\")\n",
    "            user_id = int(node_info[0])\n",
    "            rating = int(node_info[1]) - 1\n",
    "            \n",
    "            if user_id < 1200000:\n",
    "                if user_id not in user_map.keys():\n",
    "                    node_map.append((NodeType.USER, user_id))\n",
    "                    graph.append([])\n",
    "                    test_graph.append([])\n",
    "                    \n",
    "                    user_map[user_id] = len(node_map) - 1\n",
    "                    \n",
    "                user_node_idx = user_map[user_id]\n",
    "                \n",
    "                if random.uniform(0, 1) > test_size:\n",
    "                    graph[last_movie_idx + rating].append(user_node_idx)\n",
    "                    graph[user_node_idx].append(last_movie_idx + rating)\n",
    "                else:\n",
    "                    test_graph[last_movie_idx + rating].append(user_node_idx)\n",
    "                    test_graph[user_node_idx].append(last_movie_idx + rating)"
   ]
  },
  {
   "cell_type": "code",
   "execution_count": 3,
   "metadata": {},
   "outputs": [
    {
     "data": {
      "text/plain": [
       "213543"
      ]
     },
     "execution_count": 3,
     "metadata": {},
     "output_type": "execute_result"
    }
   ],
   "source": [
    "len(user_map)"
   ]
  },
  {
   "cell_type": "code",
   "execution_count": 4,
   "metadata": {},
   "outputs": [
    {
     "data": {
      "application/vnd.jupyter.widget-view+json": {
       "model_id": "07e7651f5a1e4a8d89767c68e4b52dc4",
       "version_major": 2,
       "version_minor": 0
      },
      "text/plain": [
       "HBox(children=(FloatProgress(value=0.0, max=10.0), HTML(value='')))"
      ]
     },
     "metadata": {},
     "output_type": "display_data"
    },
    {
     "name": "stdout",
     "output_type": "stream",
     "text": [
      "\n"
     ]
    }
   ],
   "source": [
    "epochs = 10\n",
    "t = 30\n",
    "w = 8\n",
    "latent_dim = 64\n",
    "\n",
    "corpus = []\n",
    "\n",
    "nodes = list(range(len(node_map)))\n",
    "for _ in tqdm(range(epochs), total = epochs):\n",
    "    random.shuffle(nodes)\n",
    "    for node in nodes:\n",
    "        walk = [node]\n",
    "        for i in range(1, t):\n",
    "            if len(graph[walk[-1]]) == 0:\n",
    "                break\n",
    "            walk.append(random.choice(graph[walk[-1]]))\n",
    "        corpus.append([str(word) for word in walk])"
   ]
  },
  {
   "cell_type": "code",
   "execution_count": 5,
   "metadata": {},
   "outputs": [],
   "source": [
    "model = Word2Vec(corpus, size = latent_dim, window = w, min_count = 0, sg = 1, hs = 1, workers = 4)"
   ]
  },
  {
   "cell_type": "code",
   "execution_count": 6,
   "metadata": {
    "scrolled": false
   },
   "outputs": [
    {
     "data": {
      "application/vnd.jupyter.widget-view+json": {
       "model_id": "2aec6f7009f0483682a8fbb910a6ae9b",
       "version_major": 2,
       "version_minor": 0
      },
      "text/plain": [
       "HBox(children=(FloatProgress(value=0.0, max=236038.0), HTML(value='')))"
      ]
     },
     "metadata": {},
     "output_type": "display_data"
    },
    {
     "name": "stdout",
     "output_type": "stream",
     "text": [
      "\n"
     ]
    }
   ],
   "source": [
    "y_predicted = []\n",
    "y_real = []\n",
    "N = len(node_map)\n",
    "print('ako ovo ispise znaci da je roundovao sve kako treba')\n",
    "for user, node in tqdm(enumerate(node_map), total = N):\n",
    "    \n",
    "    if node[0] == NodeType.USER:\n",
    "        \n",
    "        similar_users = model.wv.most_similar(positive = [str(user)], topn = 50)\n",
    "        \n",
    "        for movie_rating_node in test_graph[user]:\n",
    "            movie_node = movie_map[node_map[movie_rating_node][1]]\n",
    "            \n",
    "            rating_sum = 0\n",
    "            rating_cnt = 0\n",
    "            for similar_user in similar_users:\n",
    "                similar_user_id = int(similar_user[0])\n",
    "                for rating in range(5):\n",
    "                    if (movie_node + rating) in graph[similar_user_id]:\n",
    "                        rating_sum += rating + 1\n",
    "                        rating_cnt += 1\n",
    "                        \n",
    "            if rating_cnt > 0:\n",
    "                predicted_rating = round(rating_sum / rating_cnt)\n",
    "            else:\n",
    "                rating_sum = 0\n",
    "                rating_cnt = 0\n",
    "                for rating in range(5):\n",
    "                    rating_sum += len(graph[movie_node + rating]) * (rating + 1)\n",
    "                    rating_cnt += len(graph[movie_node + rating])\n",
    "                if rating_cnt > 0:\n",
    "                    predicted_rating = round(rating_sum / rating_cnt)\n",
    "                else:\n",
    "                    predicted_rating = 4\n",
    "            real_rating = movie_rating_node - movie_node + 1\n",
    "            \n",
    "            y_predicted.append(predicted_rating)\n",
    "            y_real.append(real_rating)"
   ]
  },
  {
   "cell_type": "code",
   "execution_count": 4,
   "metadata": {},
   "outputs": [],
   "source": [
    "model = Word2Vec.load('deepwalk.model')"
   ]
  },
  {
   "cell_type": "code",
   "execution_count": 5,
   "metadata": {},
   "outputs": [
    {
     "name": "stdout",
     "output_type": "stream",
     "text": [
      "Model score:\n"
     ]
    },
    {
     "ename": "NameError",
     "evalue": "name 'y_real' is not defined",
     "output_type": "error",
     "traceback": [
      "\u001b[0;31m---------------------------------------------------------------------------\u001b[0m",
      "\u001b[0;31mNameError\u001b[0m                                 Traceback (most recent call last)",
      "\u001b[0;32m<ipython-input-5-1dfd915c202c>\u001b[0m in \u001b[0;36m<module>\u001b[0;34m\u001b[0m\n\u001b[1;32m      3\u001b[0m \u001b[0;34m\u001b[0m\u001b[0m\n\u001b[1;32m      4\u001b[0m \u001b[0mprint\u001b[0m\u001b[0;34m(\u001b[0m\u001b[0;34m'Model score:'\u001b[0m\u001b[0;34m)\u001b[0m\u001b[0;34m\u001b[0m\u001b[0;34m\u001b[0m\u001b[0m\n\u001b[0;32m----> 5\u001b[0;31m \u001b[0mprint\u001b[0m\u001b[0;34m(\u001b[0m\u001b[0mmetrics\u001b[0m\u001b[0;34m.\u001b[0m\u001b[0mmean_absolute_error\u001b[0m\u001b[0;34m(\u001b[0m\u001b[0my_real\u001b[0m\u001b[0;34m,\u001b[0m \u001b[0my_predicted\u001b[0m\u001b[0;34m)\u001b[0m\u001b[0;34m)\u001b[0m\u001b[0;34m\u001b[0m\u001b[0;34m\u001b[0m\u001b[0m\n\u001b[0m\u001b[1;32m      6\u001b[0m \u001b[0mprint\u001b[0m\u001b[0;34m(\u001b[0m\u001b[0mmetrics\u001b[0m\u001b[0;34m.\u001b[0m\u001b[0mmean_squared_error\u001b[0m\u001b[0;34m(\u001b[0m\u001b[0my_real\u001b[0m\u001b[0;34m,\u001b[0m \u001b[0my_predicted\u001b[0m\u001b[0;34m)\u001b[0m\u001b[0;34m)\u001b[0m\u001b[0;34m\u001b[0m\u001b[0;34m\u001b[0m\u001b[0m\n\u001b[1;32m      7\u001b[0m \u001b[0mprint\u001b[0m\u001b[0;34m(\u001b[0m\u001b[0mmetrics\u001b[0m\u001b[0;34m.\u001b[0m\u001b[0mr2_score\u001b[0m\u001b[0;34m(\u001b[0m\u001b[0my_real\u001b[0m\u001b[0;34m,\u001b[0m \u001b[0my_predicted\u001b[0m\u001b[0;34m)\u001b[0m\u001b[0;34m)\u001b[0m\u001b[0;34m\u001b[0m\u001b[0;34m\u001b[0m\u001b[0m\n",
      "\u001b[0;31mNameError\u001b[0m: name 'y_real' is not defined"
     ]
    }
   ],
   "source": [
    "def max_k_off(y_real, y_predicted, k = 1):\n",
    "    return len([i for i in range(len(y_real)) if abs(y_real[i] - y_predicted[i]) <= 1]) / len(y_real)\n",
    "\n",
    "print('Model score:')\n",
    "print(metrics.mean_absolute_error(y_real, y_predicted))\n",
    "print(metrics.mean_squared_error(y_real, y_predicted))\n",
    "print(metrics.r2_score(y_real, y_predicted))\n",
    "print(max_k_off(y_real, y_predicted))\n",
    "print('------------------')\n",
    "\n",
    "y_constant4 = [4 for i in range(len(y_real))]\n",
    "\n",
    "print('Constant 4 model score:')\n",
    "print(metrics.mean_absolute_error(y_real, y_constant4))\n",
    "print(metrics.mean_squared_error(y_real, y_constant4))\n",
    "print(metrics.r2_score(y_real, y_constant4))\n",
    "print(max_k_off(y_real, y_constant4))\n",
    "print('------------------')\n",
    "\n",
    "y_custom = [max(1, min(5, y + round(numpy.random.normal(0, 1.11)))) for y in y_real]\n",
    "print('Normal distribution random model score:')\n",
    "print(metrics.mean_absolute_error(y_real, y_custom))\n",
    "print(metrics.mean_squared_error(y_real, y_custom))\n",
    "print(metrics.r2_score(y_real, y_custom))\n",
    "print(max_k_off(y_real, y_custom))\n",
    "print('------------------')\n",
    "\n",
    "y_allavg = []\n",
    "for user, node in enumerate(node_map):\n",
    "    if node[0] == NodeType.USER:\n",
    "        for movie_rating_node in test_graph[user]:\n",
    "            movie_node = movie_map[node_map[movie_rating_node][1]]\n",
    "            \n",
    "            rating_sum = 0\n",
    "            rating_cnt = 0\n",
    "            for rating in range(5):\n",
    "                rating_sum += len(graph[movie_node + rating]) * (rating + 1)\n",
    "                rating_cnt += len(graph[movie_node + rating])\n",
    "            if rating_cnt > 0:\n",
    "                predicted_rating = round(rating_sum / rating_cnt)\n",
    "            else:\n",
    "                predicted_rating = 4\n",
    "            \n",
    "            y_allavg.append(predicted_rating)\n",
    "\n",
    "print('All average model score:')\n",
    "print(metrics.mean_absolute_error(y_real, y_allavg))\n",
    "print(metrics.mean_squared_error(y_real, y_allavg))\n",
    "print(metrics.r2_score(y_real, y_allavg))\n",
    "print(max_k_off(y_real, y_allavg))\n",
    "print('------------------')"
   ]
  },
  {
   "cell_type": "code",
   "execution_count": 15,
   "metadata": {},
   "outputs": [],
   "source": [
    "model.save('deepwalk.model')"
   ]
  }
 ],
 "metadata": {
  "kernelspec": {
   "display_name": "Python 3",
   "language": "python",
   "name": "python3"
  },
  "language_info": {
   "codemirror_mode": {
    "name": "ipython",
    "version": 3
   },
   "file_extension": ".py",
   "mimetype": "text/x-python",
   "name": "python",
   "nbconvert_exporter": "python",
   "pygments_lexer": "ipython3",
   "version": "3.7.6"
  }
 },
 "nbformat": 4,
 "nbformat_minor": 4
}
